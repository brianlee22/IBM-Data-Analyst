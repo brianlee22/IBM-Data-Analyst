{
 "cells": [
  {
   "cell_type": "markdown",
   "metadata": {},
   "source": [
    "<p style=\"text-align:center\">\n",
    "    <a href=\"https://skills.network/?utm_medium=Exinfluencer&utm_source=Exinfluencer&utm_content=000026UJ&utm_term=10006555&utm_id=NA-SkillsNetwork-Channel-SkillsNetworkCoursesIBMDA0321ENSkillsNetwork21426264-2022-01-01\" target=\"_blank\">\n",
    "    <img src=\"https://cf-courses-data.s3.us.cloud-object-storage.appdomain.cloud/assets/logos/SN_web_lightmode.png\" width=\"200\" alt=\"Skills Network Logo\"  />\n",
    "    </a>\n",
    "</p>\n"
   ]
  },
  {
   "cell_type": "markdown",
   "metadata": {},
   "source": [
    "# **Web Scraping Lab**\n"
   ]
  },
  {
   "cell_type": "markdown",
   "metadata": {},
   "source": [
    "Estimated time needed: **30** minutes\n"
   ]
  },
  {
   "cell_type": "markdown",
   "metadata": {},
   "source": [
    "## Objectives\n"
   ]
  },
  {
   "cell_type": "markdown",
   "metadata": {},
   "source": [
    "After completing this lab you will be able to:\n"
   ]
  },
  {
   "cell_type": "markdown",
   "metadata": {},
   "source": [
    "*   Download a webpage using requests module\n",
    "*   Scrape all links from a web page\n",
    "*   Scrape all image urls from a web page\n",
    "*   Scrape data from html tables\n"
   ]
  },
  {
   "cell_type": "markdown",
   "metadata": {},
   "source": [
    "## Scrape [www.ibm.com](http://www.ibm.com/?utm_medium=Exinfluencer&utm_source=Exinfluencer&utm_content=000026UJ&utm_term=10006555&utm_id=NA-SkillsNetwork-Channel-SkillsNetworkCoursesIBMDA0321ENSkillsNetwork21426264-2022-01-01)\n"
   ]
  },
  {
   "cell_type": "markdown",
   "metadata": {},
   "source": [
    "Import the required modules and functions\n"
   ]
  },
  {
   "cell_type": "code",
   "execution_count": 16,
   "metadata": {},
   "outputs": [],
   "source": [
    "from bs4 import BeautifulSoup # this module helps in web scrapping.\n",
    "import requests  # this module helps us to download a web page"
   ]
  },
  {
   "cell_type": "code",
   "execution_count": 28,
   "metadata": {},
   "outputs": [
    {
     "name": "stdout",
     "output_type": "stream",
     "text": [
      "Requirement already satisfied: html5lib in /home/jupyterlab/conda/envs/python/lib/python3.7/site-packages (1.1)\n",
      "Requirement already satisfied: webencodings in /home/jupyterlab/conda/envs/python/lib/python3.7/site-packages (from html5lib) (0.5.1)\n",
      "Requirement already satisfied: six>=1.9 in /home/jupyterlab/conda/envs/python/lib/python3.7/site-packages (from html5lib) (1.16.0)\n"
     ]
    }
   ],
   "source": [
    "!pip install html5lib"
   ]
  },
  {
   "cell_type": "markdown",
   "metadata": {},
   "source": [
    "Download the contents of the web page\n"
   ]
  },
  {
   "cell_type": "code",
   "execution_count": 42,
   "metadata": {},
   "outputs": [],
   "source": [
    "url = \"http://www.ibm.com\""
   ]
  },
  {
   "cell_type": "code",
   "execution_count": 43,
   "metadata": {},
   "outputs": [],
   "source": [
    "# get the contents of the webpage in text format and store in a variable called data\n",
    "data  = requests.get(url).text "
   ]
  },
  {
   "cell_type": "code",
   "execution_count": 44,
   "metadata": {},
   "outputs": [
    {
     "data": {
      "text/plain": [
       "'<!DOCTYPE html><html lang=\"en-US\"><head><meta name=\"viewport\" content=\"width=device-width\"/><meta charSet=\"utf-8\"/><title>IBM - United States</title><link rel=\"canonical\" href=\"https://www.ibm.com/us-en/\"/><meta name=\"robots\" content=\"index,follow\"/><meta name=\"description\" content=\"For more than a century IBM has been dedicated to every client&#x27;s success and to creating innovations that matter for the world\"/><meta name=\"keywords\" content=\"IBM\"/><meta http-equiv=\"X-UA-Compatible\" content=\"I'"
      ]
     },
     "execution_count": 44,
     "metadata": {},
     "output_type": "execute_result"
    }
   ],
   "source": [
    "data[0:500]"
   ]
  },
  {
   "cell_type": "markdown",
   "metadata": {},
   "source": [
    "Create a soup object using the class BeautifulSoup\n"
   ]
  },
  {
   "cell_type": "code",
   "execution_count": 45,
   "metadata": {},
   "outputs": [],
   "source": [
    "#soup = BeautifulSoup(data,'html5lib')  # create a soup object using the variable 'data'\n",
    "soup = BeautifulSoup(data,'html.parser')"
   ]
  },
  {
   "cell_type": "markdown",
   "metadata": {},
   "source": [
    "Scrape all links\n"
   ]
  },
  {
   "cell_type": "code",
   "execution_count": 46,
   "metadata": {},
   "outputs": [
    {
     "data": {
      "text/plain": [
       "[<a class=\"bx--skip-to-content\" href=\"#main-content\" tabindex=\"0\">Skip to main content</a>,\n",
       " <a aria-label=\"IBMÂ®\" data-autoid=\"dds--masthead-default__l0-logo\" href=\"http://www.ibm.com\"><svg height=\"23\" viewbox=\"0 0 58 23\" width=\"58\" xmlns=\"http://www.w3.org/2000/svg\"><path d=\"M58 21.467V23h-7.632v-1.533H58zm-18.316 0V23h-7.631v-1.533h7.631zm5.955 0L45.025 23l-.606-1.533h1.22zm-17.097 0A6.285 6.285 0 0 1 24.391 23H12.21v-1.533zm-17.858 0V23H0v-1.533h10.684zm29-3.067v1.533h-7.631V18.4h7.631zm7.148 0l-.594 1.533H43.82l-.598-1.533h3.609zm-16.764 0a5.719 5.719 0 0 1-.64 1.533H12.21V18.4zm-19.384 0v1.533H0V18.4h10.684zM58 18.4v1.533h-7.632V18.4H58zm-3.053-3.067v1.534h-4.579v-1.534h4.58zm-15.263 0v1.534h-4.579v-1.534h4.58zm8.345 0l-.6 1.534h-4.806l-.604-1.534h6.01zm-18.174 0c.137.49.213 1.003.213 1.534h-5.647v-1.534zm-10.013 0v1.534h-4.579v-1.534h4.58zm-12.21 0v1.534h-4.58v-1.534h4.58zm47.315-3.066V13.8h-4.579v-1.533h4.58zm-15.263 0V13.8h-4.579v-1.533h4.58zm9.541 0l-.597 1.533h-7.22l-.591-1.533h8.408zm-21.248 0c.527.432.98.951 1.328 1.533H15.263v-1.533zm-20.345 0V13.8h-4.58v-1.533h4.58zM44.599 9.2l.427 1.24.428-1.24h9.493v1.533h-4.579V9.324l-.519 1.41h-9.661l-.504-1.41v1.41h-4.579V9.2H44.6zm-36.967 0v1.533h-4.58V9.2h4.58zm21.673 0a5.95 5.95 0 0 1-1.328 1.533H15.263V9.2zm25.642-3.067v1.534h-8.964l.54-1.534h8.424zm-11.413 0l.54 1.534h-8.969V6.133h8.43zm-13.466 0c0 .531-.076 1.045-.213 1.534H24.42V6.133zm-10.226 0v1.534h-4.579V6.133h4.58zm-12.21 0v1.534h-4.58V6.133h4.58zm34.845-3.066l.53 1.533H32.054V3.067h10.424zm15.523 0V4.6H47.04l.55-1.533H58zm-28.573 0c.284.473.504.988.641 1.533H12.211V3.067zm-18.743 0V4.6H0V3.067h10.684zM41.406 0l.54 1.533h-9.893V0h9.353zM58 0v1.533h-9.881L48.647 0H58zM24.39 0c1.601 0 3.057.581 4.152 1.533H12.211V0zM10.685 0v1.533H0V0h10.684z\" fill=\"#161616\" fill-rule=\"evenodd\"></path></svg></a>,\n",
       " <a class=\"ibm-blocklink ibm-no-border\" href=\"https://www.ibm.com/about/automation?lnk=ushpv18l1\" id=\"ibm-homepage-ls-full-cta\"><div class=\"ibm_cci-grid-hidden-large ibm-hidden-xlarge ibm-pb-0 ibm__hp-mobile-image\"><div style=\"display:inline-block;max-width:100%;overflow:hidden;position:relative;box-sizing:border-box;margin:0\"><div style=\"box-sizing:border-box;display:block;max-width:100%\"><img alt=\"\" aria-hidden=\"true\" role=\"presentation\" src=\"data:image/svg+xml;base64,PHN2ZyB3aWR0aD0iMTA1NSIgaGVpZ2h0PSI1MjcuNSIgeG1sbnM9Imh0dHA6Ly93d3cudzMub3JnLzIwMDAvc3ZnIiB2ZXJzaW9uPSIxLjEiLz4=\" style=\"max-width:100%;display:block;margin:0;border:none;padding:0\"/></div><img alt=\"leadspace mobile image\" class=\"ibm-resize\" decoding=\"async\" src=\"https://1.dam.s81c.com/p/0824479375c53468/20220606-ls-intelligent-automation-26698-720x360.jpg\" style=\"position:absolute;top:0;left:0;bottom:0;right:0;box-sizing:border-box;padding:0;border:none;margin:auto;display:block;width:0;height:0;min-width:100%;max-width:100%;min-height:100%;max-height:100%\"/></div></div><div class=\"bx--grid\" id=\"ibm-cci_carbon-leadspace-body\"><div class=\"bx--row\"><div class=\"bx--col-sm-4 bx--col-md-8 bx--col-lg-8 bx--col-xlg-6 ibm-cci_leadspace-content ibm-pt-4 ibm-pb-4\"><h1 class=\"bx--type-display-01 ibm-cci_leadspace-content-title ibm-br--display-01\" id=\"ibm-leadspace-title\">Make work less work</h1><div class=\"bx--col-sm-4 bx--col-lg-16 bx--col-xlg-12 bx--grid-col-seamless ibm_cci-flex-column-inner\"><p class=\"bx--type-expressive-heading-03 ibm-mb-4 ibm-pb-0 ibm-textcolor-gray-80\" id=\"ibm-leadspace-copy\">Better performance, a stronger workforce and happier customers are in reach with intelligent, enterprise‑wide automation</p><div class=\"bx--buttongroup ibm-pt-0\"><button class=\"bx--btn bx--btn--primary\" tabindex=\"-1\" type=\"button\"><span>Innovate with automation</span></button></div></div></div></div></div></a>,\n",
       " <a name=\"welcome\"></a>,\n",
       " <a class=\"ibm-br--link\" href=\"#ibm-tech-section\">information technology</a>,\n",
       " <a class=\"ibm-br--link\" href=\"https://www.ibm.com/consulting/?lnk=ushpv18intro2\">consulting services</a>,\n",
       " <a data-title=\"Research\" name=\"research\"></a>,\n",
       " <a href=\"https://research.ibm.com/blog/accelerated-discovery-film?lnk=ushpv18r1\" tabindex=\"-1\"><div class=\"bx--image\" data-autoid=\"dds--image__longdescription\"><picture><img alt=\" \" class=\"bx--image__img\" src=\"https://1.dam.s81c.com/p/08243aa1b03b6088/20220606-r1-accelerated-discovery-26724-1600x900.jpg\"/></picture></div></a>,\n",
       " <a aria-label=\"\" class=\"bx--link bx--card__footer bx--card__footer__copy\" href=\"https://research.ibm.com/blog/accelerated-discovery-film?lnk=ushpv18r1\"><span class=\"bx--card__cta__copy\"><svg aria-hidden=\"true\" fill=\"currentColor\" focusable=\"false\" height=\"20\" preserveaspectratio=\"xMidYMid meet\" viewbox=\"0 0 20 20\" width=\"20\" xmlns=\"http://www.w3.org/2000/svg\"><path d=\"M11.8 2.8L10.8 3.8 16.2 9.3 1 9.3 1 10.7 16.2 10.7 10.8 16.2 11.8 17.2 19 10z\"></path></svg></span></a>,\n",
       " <a aria-label=\"In a human-centered approach to developing AI systems, people lead. AI augments and amplifies.\n",
       " \" class=\"bx--link bx--card__footer\" href=\"https://research.ibm.com/blog/what-is-human-centered-ai?lnk=ushpv18r2\"><svg aria-hidden=\"true\" class=\"bx--card__cta\" fill=\"currentColor\" focusable=\"false\" height=\"20\" preserveaspectratio=\"xMidYMid meet\" src=\"[object Object]\" viewbox=\"0 0 20 20\" width=\"20\" xmlns=\"http://www.w3.org/2000/svg\"><path d=\"M11.8 2.8L10.8 3.8 16.2 9.3 1 9.3 1 10.7 16.2 10.7 10.8 16.2 11.8 17.2 19 10z\"></path></svg></a>,\n",
       " <a aria-label=\"Pay-as-you-go Qiskit Runtime makes quantum algorithm development easier than ever\n",
       " \" class=\"bx--link bx--card__footer\" href=\"https://research.ibm.com/blog/qiskit-runtime-for-useful-quantum-computing?lnk=ushpv18r3\"><svg aria-hidden=\"true\" class=\"bx--card__cta\" fill=\"currentColor\" focusable=\"false\" height=\"20\" preserveaspectratio=\"xMidYMid meet\" src=\"[object Object]\" viewbox=\"0 0 20 20\" width=\"20\" xmlns=\"http://www.w3.org/2000/svg\"><path d=\"M11.8 2.8L10.8 3.8 16.2 9.3 1 9.3 1 10.7 16.2 10.7 10.8 16.2 11.8 17.2 19 10z\"></path></svg></a>,\n",
       " <a aria-label=\"Emerging tech takes on climate change, seeking faster solutions and more effective responses\n",
       " \" class=\"bx--link bx--card__footer\" href=\"https://www.research.ibm.com/blog/earth-day-2022?lnk=ushpv18r4\"><svg aria-hidden=\"true\" class=\"bx--card__cta\" fill=\"currentColor\" focusable=\"false\" height=\"20\" preserveaspectratio=\"xMidYMid meet\" src=\"[object Object]\" viewbox=\"0 0 20 20\" width=\"20\" xmlns=\"http://www.w3.org/2000/svg\"><path d=\"M11.8 2.8L10.8 3.8 16.2 9.3 1 9.3 1 10.7 16.2 10.7 10.8 16.2 11.8 17.2 19 10z\"></path></svg></a>,\n",
       " <a class=\"ibm-br--link\" href=\"https://research.ibm.com/blog/ibm-quantum-roadmap-2025?lnk=ushpv18r1\">Follow the IBM Quantum roadmap to the future of supercomputing</a>,\n",
       " <a data-title=\"Inside IBM\" name=\"inside-ibm\"></a>,\n",
       " <a aria-label=\"No one is immune to ransomware\" class=\"bx--link bx--card__footer\" href=\"https://www.ibm.com/security/ransomware?lnk=ushpv18f1\"><svg aria-hidden=\"true\" class=\"bx--card__cta\" fill=\"currentColor\" focusable=\"false\" height=\"20\" preserveaspectratio=\"xMidYMid meet\" src=\"[object Object]\" viewbox=\"0 0 20 20\" width=\"20\" xmlns=\"http://www.w3.org/2000/svg\"><path d=\"M11.8 2.8L10.8 3.8 16.2 9.3 1 9.3 1 10.7 16.2 10.7 10.8 16.2 11.8 17.2 19 10z\"></path></svg></a>,\n",
       " <a aria-label=\"Modernize your mainframe\" class=\"bx--link bx--card__footer\" href=\"https://www.ibm.com/products/zcx-openshift?lnk=ushpv18f2\"><svg aria-hidden=\"true\" class=\"bx--card__cta\" fill=\"currentColor\" focusable=\"false\" height=\"20\" preserveaspectratio=\"xMidYMid meet\" src=\"[object Object]\" viewbox=\"0 0 20 20\" width=\"20\" xmlns=\"http://www.w3.org/2000/svg\"><path d=\"M11.8 2.8L10.8 3.8 16.2 9.3 1 9.3 1 10.7 16.2 10.7 10.8 16.2 11.8 17.2 19 10z\"></path></svg></a>,\n",
       " <a aria-label=\"Smart Talks: fair mortgage tech\" class=\"bx--link bx--card__footer\" href=\"https://www.ibm.com/thought-leadership/smart/talks/?lnk=ushpv18f3\"><svg aria-hidden=\"true\" class=\"bx--card__cta\" fill=\"currentColor\" focusable=\"false\" height=\"20\" preserveaspectratio=\"xMidYMid meet\" src=\"[object Object]\" viewbox=\"0 0 20 20\" width=\"20\" xmlns=\"http://www.w3.org/2000/svg\"><path d=\"M11.8 2.8L10.8 3.8 16.2 9.3 1 9.3 1 10.7 16.2 10.7 10.8 16.2 11.8 17.2 19 10z\"></path></svg></a>,\n",
       " <a aria-label=\"Achieve hybrid cloud mastery\" class=\"bx--link bx--card__footer\" href=\"https://www.ibm.com/thought-leadership/institute-business-value/report/mastering-hybrid-cloud?lnk=ushpv18f4\"><svg aria-hidden=\"true\" class=\"bx--card__cta\" fill=\"currentColor\" focusable=\"false\" height=\"20\" preserveaspectratio=\"xMidYMid meet\" src=\"[object Object]\" viewbox=\"0 0 20 20\" width=\"20\" xmlns=\"http://www.w3.org/2000/svg\"><path d=\"M11.8 2.8L10.8 3.8 16.2 9.3 1 9.3 1 10.7 16.2 10.7 10.8 16.2 11.8 17.2 19 10z\"></path></svg></a>,\n",
       " <a data-title=\"Creativity at work\" name=\"creativity-at-work\"></a>,\n",
       " <a class=\"ibm-br--link ibm-mb-7\" href=\"https://www.ibm.com/case-studies/search?lnk=ushpv18mAll\">See all case studies</a>,\n",
       " <a class=\"ibm-br--creativity-item ibm-mb-6\" href=\"https://www.ibm.com/case-studies/pandora-jewellery/?lnk=ushpv18m1\"><div class=\"ibm-br--creativity-img\"><div class=\"bx--image\" data-autoid=\"dds--image__longdescription\"><picture><source media=\"(min-width: 320px)\" srcset=\"https://1.dam.s81c.com/p/0824479375c53465/20220606-m-pandora-jewelry-26707-1600x900.jpg\"/><img alt=\" \" class=\"bx--image__img\" src=\"https://1.dam.s81c.com/p/0824479375c53465/20220606-m-pandora-jewelry-26707-1600x900.jpg\"/></picture></div></div><div class=\"ibm-br--creativity-content\"><h4 class=\"bx--type-expressive-heading-03 ibm-br--heading-03\">A success story with extra sparkle</h4><p class=\"\">Choosing the perfect piece of jewelry requires a personal touch â in store or online</p><span class=\"ibm-br--link\">See how cloud-based order management improved Pandoraâs e-commerce experience</span></div><div class=\"ibm-br--creativity-nav\"></div></a>,\n",
       " <a class=\"ibm-br--creativity-item ibm-mb-6\" href=\"https://www.ibm.com/case-studies/samsung-electronics/?lnk=ushpv18m2\"><div class=\"ibm-br--creativity-img\"><div class=\"bx--image\" data-autoid=\"dds--image__longdescription\"><picture><source media=\"(min-width: 320px)\" srcset=\"https://1.dam.s81c.com/p/08244793754533a5/20220530-m-samsung-electronics-26697-1600x900.jpg\"/><img alt=\" \" class=\"bx--image__img\" src=\"https://1.dam.s81c.com/p/08244793754533a5/20220530-m-samsung-electronics-26697-1600x900.jpg\"/></picture></div></div><div class=\"ibm-br--creativity-content\"><h4 class=\"bx--type-expressive-heading-03 ibm-br--heading-03\">The 113% solution: modernizing an e-commerce experience</h4><p class=\"\">When Samsung optimized their online marketplace to focus on customer experience, sales jumped from $155M to $330M</p><span class=\"ibm-br--link\">Learn the strategy that helped Samsung unify its digital platforms to serve the South Korean market</span></div><div class=\"ibm-br--creativity-nav\"></div></a>,\n",
       " <a class=\"ibm-br--creativity-item ibm-mb-6\" href=\"https://www.ibm.com/case-studies/etihad-airways-ibm-cloud/?lnk=ushpv18m3\"><div class=\"ibm-br--creativity-img\"><div class=\"bx--image\" data-autoid=\"dds--image__longdescription\"><picture><source media=\"(min-width: 320px)\" srcset=\"https://1.dam.s81c.com/p/082034cdaaa5f19d/20220523-m-etihad-airways-26680-1600x900.jpg\"/><img alt=\" \" class=\"bx--image__img\" src=\"https://1.dam.s81c.com/p/082034cdaaa5f19d/20220523-m-etihad-airways-26680-1600x900.jpg\"/></picture></div></div><div class=\"ibm-br--creativity-content\"><h4 class=\"bx--type-expressive-heading-03 ibm-br--heading-03\">First-class solutions keep premium passengers flying happy</h4><p class=\"\">Etihad Airways needed to both enhance and simplify its service platform because âeverything is about customer experienceâ</p><span class=\"ibm-br--link\">See what happened when a new DevOps team held a Garage meeting with IBM Consulting</span></div><div class=\"ibm-br--creativity-nav\"></div></a>,\n",
       " <a data-title=\"Trials and offers\" name=\"trials\"></a>,\n",
       " <a class=\"ibm-br--link ibm-pt-3 ibm-pb-3\" href=\"https://www.ibm.com/products?types[0]=trial&amp;lnk=STW_US_MPDISC_BNR_BTN&amp;lnk2=THP&amp;lnk3=ushpv18tAll\">See all trials</a>,\n",
       " <a class=\"ibm-br--link\" href=\"https://www.ibm.com/products/offers-and-discounts?link=ushpv18t5&amp;lnk2=trial_mktpl_MPDISC\">See current deals</a>,\n",
       " <a aria-label=\"Red Hat OpenShift on IBM Cloud\" class=\"bx--link bx--card__footer\" href=\"https://www.ibm.com/cloud/openshift?lnk=ushpv18t1&amp;lnk2=trial_RedHatOpenShift&amp;psrc=none&amp;pexp=def\"><svg aria-hidden=\"true\" class=\"bx--card__cta\" fill=\"currentColor\" focusable=\"false\" height=\"20\" preserveaspectratio=\"xMidYMid meet\" src=\"[object Object]\" viewbox=\"0 0 20 20\" width=\"20\" xmlns=\"http://www.w3.org/2000/svg\"><path d=\"M11.8 2.8L10.8 3.8 16.2 9.3 1 9.3 1 10.7 16.2 10.7 10.8 16.2 11.8 17.2 19 10z\"></path></svg></a>,\n",
       " <a aria-label=\"IBM MaaS360 with Watson\" class=\"bx--link bx--card__footer\" href=\"https://www.ibm.com/products/unified-endpoint-management?lnk=ushpv18t2&amp;lnk2=trial_MaaS360Wat&amp;psrc=none&amp;pexp=def\"><svg aria-hidden=\"true\" class=\"bx--card__cta\" fill=\"currentColor\" focusable=\"false\" height=\"20\" preserveaspectratio=\"xMidYMid meet\" src=\"[object Object]\" viewbox=\"0 0 20 20\" width=\"20\" xmlns=\"http://www.w3.org/2000/svg\"><path d=\"M11.8 2.8L10.8 3.8 16.2 9.3 1 9.3 1 10.7 16.2 10.7 10.8 16.2 11.8 17.2 19 10z\"></path></svg></a>,\n",
       " <a aria-label=\"IBM Watson Studio\" class=\"bx--link bx--card__footer\" href=\"https://www.ibm.com/cloud/watson-studio?lnk=ushpv18t3&amp;lnk2=trial_WatStudio&amp;psrc=none&amp;pexp=def\"><svg aria-hidden=\"true\" class=\"bx--card__cta\" fill=\"currentColor\" focusable=\"false\" height=\"20\" preserveaspectratio=\"xMidYMid meet\" src=\"[object Object]\" viewbox=\"0 0 20 20\" width=\"20\" xmlns=\"http://www.w3.org/2000/svg\"><path d=\"M11.8 2.8L10.8 3.8 16.2 9.3 1 9.3 1 10.7 16.2 10.7 10.8 16.2 11.8 17.2 19 10z\"></path></svg></a>,\n",
       " <a class=\"ibm-search-link ibm__linky-skip\" href=\"https://www.ibm.com/search?lnk=ushpv18srch&amp;locale=en-us&amp;q=\" id=\"ibm-gmktp-search-bttn-b\"><span>Search IBM</span></a>,\n",
       " <a class=\"ibm_cci-link-fade\" href=\"https://www.ibm.com/products?lnk=ushpv18p1&amp;lnk2=trial_mktpl&amp;psrc=none&amp;pexp=def\" id=\"ibm-homepage-lpsw-see-more-b\">See all products</a>,\n",
       " <a aria-label=\"Hybrid cloud\" class=\"bx--link bx--card__footer\" href=\"https://www.ibm.com/cloud/hybrid?lnk=ushpv18pt14\"><svg aria-hidden=\"true\" class=\"bx--card__cta\" fill=\"currentColor\" focusable=\"false\" height=\"20\" preserveaspectratio=\"xMidYMid meet\" src=\"[object Object]\" viewbox=\"0 0 20 20\" width=\"20\" xmlns=\"http://www.w3.org/2000/svg\"><path d=\"M11.8 2.8L10.8 3.8 16.2 9.3 1 9.3 1 10.7 16.2 10.7 10.8 16.2 11.8 17.2 19 10z\"></path></svg></a>,\n",
       " <a aria-label=\"Watson\" class=\"bx--link bx--card__footer\" href=\"https://www.ibm.com/watson?lnk=ushpv18pt17\"><svg aria-hidden=\"true\" class=\"bx--card__cta\" fill=\"currentColor\" focusable=\"false\" height=\"20\" preserveaspectratio=\"xMidYMid meet\" src=\"[object Object]\" viewbox=\"0 0 20 20\" width=\"20\" xmlns=\"http://www.w3.org/2000/svg\"><path d=\"M11.8 2.8L10.8 3.8 16.2 9.3 1 9.3 1 10.7 16.2 10.7 10.8 16.2 11.8 17.2 19 10z\"></path></svg></a>,\n",
       " <a aria-label=\"IT infrastructure\" class=\"bx--link bx--card__footer\" href=\"https://www.ibm.com/it-infrastructure?lnk=ushpv18pt19\"><svg aria-hidden=\"true\" class=\"bx--card__cta\" fill=\"currentColor\" focusable=\"false\" height=\"20\" preserveaspectratio=\"xMidYMid meet\" src=\"[object Object]\" viewbox=\"0 0 20 20\" width=\"20\" xmlns=\"http://www.w3.org/2000/svg\"><path d=\"M11.8 2.8L10.8 3.8 16.2 9.3 1 9.3 1 10.7 16.2 10.7 10.8 16.2 11.8 17.2 19 10z\"></path></svg></a>,\n",
       " <a aria-label=\"Blockchain\" class=\"bx--link bx--card__footer\" href=\"https://www.ibm.com/blockchain?lnk=ushpv18pt4\"><svg aria-hidden=\"true\" class=\"bx--card__cta\" fill=\"currentColor\" focusable=\"false\" height=\"20\" preserveaspectratio=\"xMidYMid meet\" src=\"[object Object]\" viewbox=\"0 0 20 20\" width=\"20\" xmlns=\"http://www.w3.org/2000/svg\"><path d=\"M11.8 2.8L10.8 3.8 16.2 9.3 1 9.3 1 10.7 16.2 10.7 10.8 16.2 11.8 17.2 19 10z\"></path></svg></a>,\n",
       " <a aria-label=\"Security\" class=\"bx--link bx--card__footer\" href=\"https://www.ibm.com/security/products?lnk=ushpv18pt9\"><svg aria-hidden=\"true\" class=\"bx--card__cta\" fill=\"currentColor\" focusable=\"false\" height=\"20\" preserveaspectratio=\"xMidYMid meet\" src=\"[object Object]\" viewbox=\"0 0 20 20\" width=\"20\" xmlns=\"http://www.w3.org/2000/svg\"><path d=\"M11.8 2.8L10.8 3.8 16.2 9.3 1 9.3 1 10.7 16.2 10.7 10.8 16.2 11.8 17.2 19 10z\"></path></svg></a>,\n",
       " <a aria-label=\"Analytics\" class=\"bx--link bx--card__footer\" href=\"https://www.ibm.com/analytics/products?lnk=ushpv18pt1\"><svg aria-hidden=\"true\" class=\"bx--card__cta\" fill=\"currentColor\" focusable=\"false\" height=\"20\" preserveaspectratio=\"xMidYMid meet\" src=\"[object Object]\" viewbox=\"0 0 20 20\" width=\"20\" xmlns=\"http://www.w3.org/2000/svg\"><path d=\"M11.8 2.8L10.8 3.8 16.2 9.3 1 9.3 1 10.7 16.2 10.7 10.8 16.2 11.8 17.2 19 10z\"></path></svg></a>,\n",
       " <a aria-label=\"Automation\" class=\"bx--link bx--card__footer\" href=\"https://www.ibm.com/cloud/automation?lnk=ushpv18ct21\"><svg aria-hidden=\"true\" class=\"bx--card__cta\" fill=\"currentColor\" focusable=\"false\" height=\"20\" preserveaspectratio=\"xMidYMid meet\" src=\"[object Object]\" viewbox=\"0 0 20 20\" width=\"20\" xmlns=\"http://www.w3.org/2000/svg\"><path d=\"M11.8 2.8L10.8 3.8 16.2 9.3 1 9.3 1 10.7 16.2 10.7 10.8 16.2 11.8 17.2 19 10z\"></path></svg></a>,\n",
       " <a aria-label=\"Quantum computing\" class=\"bx--link bx--card__footer\" href=\"https://www.ibm.com/quantum-computing?lnk=ushpv18pt16\"><svg aria-hidden=\"true\" class=\"bx--card__cta\" fill=\"currentColor\" focusable=\"false\" height=\"20\" preserveaspectratio=\"xMidYMid meet\" src=\"[object Object]\" viewbox=\"0 0 20 20\" width=\"20\" xmlns=\"http://www.w3.org/2000/svg\"><path d=\"M11.8 2.8L10.8 3.8 16.2 9.3 1 9.3 1 10.7 16.2 10.7 10.8 16.2 11.8 17.2 19 10z\"></path></svg></a>,\n",
       " <a class=\"ibm_cci-link-fade\" href=\"https://www.ibm.com/mysupport/s/?language=en_US&amp;lnk=ushpv18ct11\" id=\"ibm-homepage-tech-support\">Support</a>,\n",
       " <a class=\"ibm_cci-link-fade\" href=\"https://www.ibm.com/training/?lnk=ushpv18ct15\" id=\"ibm-homepage-tech-training\">Training and skills</a>,\n",
       " <a class=\"ibm_cci-link-fade\" href=\"https://community.ibm.com/community/user/home/?lnk=ushpv18ct20\" id=\"ibm-homepage-tech-training\">IBM Community</a>,\n",
       " <a class=\"ibm_cci-link-fade\" href=\"https://developer.ibm.com/?lnk=ushpv18ct9\" id=\"ibm-homepage-tech-ibm-developer\">IBM Developer</a>,\n",
       " <a class=\"ibm_cci-link-fade\" href=\"https://www.ibm.com/garage?lnk=ushpv18pt18\" id=\"ibm-homepage-tech-ibm-garage\">IBM Garage</a>,\n",
       " <a class=\"ibm_cci-link-fade\" href=\"https://www.ibm.com/docs/en?lnk=ushpv18ct14\" id=\"ibm-homepage-tech-ibm-documentation\">IBM Documentation</a>,\n",
       " <a class=\"ibm_cci-link-fade\" href=\"https://www.redbooks.ibm.com/?lnk=ushpv18ct10\" id=\"ibm-homepage-tech-redbooks\">IBM Redbooks</a>,\n",
       " <a class=\"ibm_cci-link-fade\" href=\"https://www.ibm.com/subscribe/?lnk=ushpv18ct22\" id=\"ibm-homepage-tech-subscribe\">IBM Subscription Center</a>,\n",
       " <a class=\"ibm_cci-link-fade\" href=\"https://www-03.ibm.com/employment/technicaltalent/developer/?lnk=ushpv18ct2\" id=\"ibm-homepage-tech-careers\">Careers</a>,\n",
       " <a class=\"bx--footer-logo__link\" data-autoid=\"dds--footer-logo__link\" href=\"https://www.ibm.com/\"><svg class=\"bx--footer-logo__logo\" height=\"65\" viewbox=\"0 0 157 65\" width=\"157\" xmlns=\"http://www.w3.org/2000/svg\"><title>IBM Logo</title><path d=\"M30.444 60.208v4.03H0v-4.03h30.444zm78.291-.001v4.03H86.983v-4.03h21.752zm47.858 0v4.03H134.84v-4.03h21.753zm-33.416 0l-1.398 4.03-1.38-4.03h2.778zm-88.384 0h42.775c-2.797 2.426-6.39 3.925-10.327 4.025l-.423.006H34.793v-4.03h42.775zm-4.35-8.46v4.03H0v-4.03h30.444zm52.402 0c-.332 1.248-.8 2.44-1.389 3.555l-.259.474H34.793v-4.029h48.052zm73.748-.005v4.031H134.84v-4.03h21.753zm-47.858 0v4.031H86.983v-4.03h21.752zm17.375 0l-1.398 4.031h-5.85l-1.395-4.03h8.643zM21.745 43.285v4.03H8.698v-4.03h13.047zm61.195 0a17.32 17.32 0 0 1 .476 3.51l.008.52H68.796v-4.03H82.94zm-26.401 0v4.03H43.491v-4.03H56.54zm72.502-.007l-1.396 4.03H115.93l-1.397-4.03h14.507zm18.85 0v4.03h-13.05v-4.03h13.05zm-39.156 0v4.03H95.684v-4.03h13.051zm-86.99-8.454v4.03H8.698v-4.03h13.047zm56.117 0a16.945 16.945 0 0 1 2.926 3.582l.264.447h-37.56v-4.03h34.37zm30.873-.01v4.03H95.684v-4.03h13.051zm39.157 0v4.03H134.84v-4.03h13.052zm-15.919 0l-1.396 4.03h-17.579l-1.396-4.03h20.371zm-50.778-8.452a16.963 16.963 0 0 1-2.82 3.674l-.37.355H43.49v-4.029h37.704zm-59.45 0v4.03H8.698v-4.03h13.047zm126.147-.013v4.031H134.84v-3.839l-1.33 3.839h-11.456l1.373-4.03h24.465zm-27.743 0l1.372 4.031h-11.456l-1.33-3.839v3.84H95.684v-4.032h24.465zm-98.404-8.448v4.03H8.698V17.9h13.047zm61.68 0c0 1.215-.134 2.399-.375 3.542l-.11.487H68.796V17.9h14.628zM56.538 17.9v4.03H43.491V17.9H56.54zm91.352-.015v4.03h-22.954l1.37-4.03h21.584zm-30.624 0l1.372 4.03H95.684v-4.03h21.583zM30.444 9.437v4.03H0v-4.03h30.444zm50.753 0a17.048 17.048 0 0 1 1.498 3.499l.15.531H34.794v-4.03h46.403zm75.396-.018v4.03h-28.776l1.373-4.03h27.403zm-42.207 0l1.372 4.031H86.982V9.42h27.404zM30.444.978v4.03H0V.977h30.444zm36.374 0c3.96 0 7.594 1.415 10.448 3.772l.303.257H34.794V.977h32.024zm89.775-.022v4.031h-25.894l1.372-4.03h24.522zm-45.098 0l1.372 4.03H86.982V.955h24.513z\"></path></svg></a>]"
      ]
     },
     "execution_count": 46,
     "metadata": {},
     "output_type": "execute_result"
    }
   ],
   "source": [
    "anchors = soup.find_all('a')\n",
    "anchors"
   ]
  },
  {
   "cell_type": "code",
   "execution_count": 47,
   "metadata": {},
   "outputs": [
    {
     "name": "stdout",
     "output_type": "stream",
     "text": [
      "#main-content\n",
      "http://www.ibm.com\n",
      "https://www.ibm.com/about/automation?lnk=ushpv18l1\n",
      "None\n",
      "#ibm-tech-section\n",
      "https://www.ibm.com/consulting/?lnk=ushpv18intro2\n",
      "None\n",
      "https://research.ibm.com/blog/accelerated-discovery-film?lnk=ushpv18r1\n",
      "https://research.ibm.com/blog/accelerated-discovery-film?lnk=ushpv18r1\n",
      "https://research.ibm.com/blog/what-is-human-centered-ai?lnk=ushpv18r2\n",
      "https://research.ibm.com/blog/qiskit-runtime-for-useful-quantum-computing?lnk=ushpv18r3\n",
      "https://www.research.ibm.com/blog/earth-day-2022?lnk=ushpv18r4\n",
      "https://research.ibm.com/blog/ibm-quantum-roadmap-2025?lnk=ushpv18r1\n",
      "None\n",
      "https://www.ibm.com/security/ransomware?lnk=ushpv18f1\n",
      "https://www.ibm.com/products/zcx-openshift?lnk=ushpv18f2\n",
      "https://www.ibm.com/thought-leadership/smart/talks/?lnk=ushpv18f3\n",
      "https://www.ibm.com/thought-leadership/institute-business-value/report/mastering-hybrid-cloud?lnk=ushpv18f4\n",
      "None\n",
      "https://www.ibm.com/case-studies/search?lnk=ushpv18mAll\n",
      "https://www.ibm.com/case-studies/pandora-jewellery/?lnk=ushpv18m1\n",
      "https://www.ibm.com/case-studies/samsung-electronics/?lnk=ushpv18m2\n",
      "https://www.ibm.com/case-studies/etihad-airways-ibm-cloud/?lnk=ushpv18m3\n",
      "None\n",
      "https://www.ibm.com/products?types[0]=trial&lnk=STW_US_MPDISC_BNR_BTN&lnk2=THP&lnk3=ushpv18tAll\n",
      "https://www.ibm.com/products/offers-and-discounts?link=ushpv18t5&lnk2=trial_mktpl_MPDISC\n",
      "https://www.ibm.com/cloud/openshift?lnk=ushpv18t1&lnk2=trial_RedHatOpenShift&psrc=none&pexp=def\n",
      "https://www.ibm.com/products/unified-endpoint-management?lnk=ushpv18t2&lnk2=trial_MaaS360Wat&psrc=none&pexp=def\n",
      "https://www.ibm.com/cloud/watson-studio?lnk=ushpv18t3&lnk2=trial_WatStudio&psrc=none&pexp=def\n",
      "https://www.ibm.com/search?lnk=ushpv18srch&locale=en-us&q=\n",
      "https://www.ibm.com/products?lnk=ushpv18p1&lnk2=trial_mktpl&psrc=none&pexp=def\n",
      "https://www.ibm.com/cloud/hybrid?lnk=ushpv18pt14\n",
      "https://www.ibm.com/watson?lnk=ushpv18pt17\n",
      "https://www.ibm.com/it-infrastructure?lnk=ushpv18pt19\n",
      "https://www.ibm.com/blockchain?lnk=ushpv18pt4\n",
      "https://www.ibm.com/security/products?lnk=ushpv18pt9\n",
      "https://www.ibm.com/analytics/products?lnk=ushpv18pt1\n",
      "https://www.ibm.com/cloud/automation?lnk=ushpv18ct21\n",
      "https://www.ibm.com/quantum-computing?lnk=ushpv18pt16\n",
      "https://www.ibm.com/mysupport/s/?language=en_US&lnk=ushpv18ct11\n",
      "https://www.ibm.com/training/?lnk=ushpv18ct15\n",
      "https://community.ibm.com/community/user/home/?lnk=ushpv18ct20\n",
      "https://developer.ibm.com/?lnk=ushpv18ct9\n",
      "https://www.ibm.com/garage?lnk=ushpv18pt18\n",
      "https://www.ibm.com/docs/en?lnk=ushpv18ct14\n",
      "https://www.redbooks.ibm.com/?lnk=ushpv18ct10\n",
      "https://www.ibm.com/subscribe/?lnk=ushpv18ct22\n",
      "https://www-03.ibm.com/employment/technicaltalent/developer/?lnk=ushpv18ct2\n",
      "https://www.ibm.com/\n"
     ]
    }
   ],
   "source": [
    "for link in soup.find_all('a'):  # in html anchor/link is represented by the tag <a>\n",
    "    print(link.get('href'))"
   ]
  },
  {
   "cell_type": "markdown",
   "metadata": {},
   "source": [
    "Scrape  all images\n"
   ]
  },
  {
   "cell_type": "code",
   "execution_count": 48,
   "metadata": {},
   "outputs": [
    {
     "name": "stdout",
     "output_type": "stream",
     "text": [
      "data:image/svg+xml;base64,PHN2ZyB3aWR0aD0iMTA1NSIgaGVpZ2h0PSI1MjcuNSIgeG1sbnM9Imh0dHA6Ly93d3cudzMub3JnLzIwMDAvc3ZnIiB2ZXJzaW9uPSIxLjEiLz4=\n",
      "https://1.dam.s81c.com/p/0824479375c53468/20220606-ls-intelligent-automation-26698-720x360.jpg\n",
      "https://1.dam.s81c.com/p/08243aa1b03b6088/20220606-r1-accelerated-discovery-26724-1600x900.jpg\n",
      "https://1.dam.s81c.com/p/0795cae91aa515c6/20220404-r-human-centered-ai-26546-800x450.jpg\n",
      "https://1.dam.s81c.com/p/07bbb0107dc3d30b/20220412-research-26578-Qiskit-PAYGO-800x450.jpg\n",
      "https://1.dam.s81c.com/p/07d5a7f25cc3d90f/20220502-r-earth-day-26621-800x450.jpg\n",
      "https://1.dam.s81c.com/p/08243aa1b03b6028/20220606-guide-to-ransomware-security-26656-444x333.jpg\n",
      "https://1.dam.s81c.com/p/08243aa1b03b6026/20220606-zCX-foundation-red-hat-openshift-b-26703-444x333.jpg\n",
      "https://1.dam.s81c.com/p/08243aa1b03b6084/20220606-smart-talk-gladwell-goldstein-444x320.jpg\n",
      "https://1.dam.s81c.com/p/08333674a8a63012/20220613-26530-mastering-hybrid-cloud-ibv-report-444x333.jpg\n",
      "https://1.dam.s81c.com/p/0824479375c53465/20220606-m-pandora-jewelry-26707-1600x900.jpg\n",
      "https://1.dam.s81c.com/p/08244793754533a5/20220530-m-samsung-electronics-26697-1600x900.jpg\n",
      "https://1.dam.s81c.com/p/082034cdaaa5f19d/20220523-m-etihad-airways-26680-1600x900.jpg\n",
      "https://1.dam.s81c.com/public/content/dam/worldwide-content/homepage/ul/g/ea/62/Redhat-Openshift-on-Cloud-trial-800x450.jpg\n",
      "https://1.dam.s81c.com/public/content/dam/worldwide-content/homepage/ul/g/ed/21/MaaS360-with-Watson-trial-800x450.jpg\n",
      "https://1.dam.s81c.com/public/content/dam/worldwide-content/homepage/ul/g/6a/27/Watson-Studio-trial-800x450.jpg\n"
     ]
    }
   ],
   "source": [
    "for link in soup.find_all('img'):# in html image is represented by the tag <img>\n",
    "    print(link.get('src'))"
   ]
  },
  {
   "cell_type": "markdown",
   "metadata": {},
   "source": [
    "## Scrape data from html tables\n"
   ]
  },
  {
   "cell_type": "code",
   "execution_count": null,
   "metadata": {},
   "outputs": [],
   "source": [
    "#The below url contains a html table with data about colors and color codes."
   ]
  },
  {
   "cell_type": "code",
   "execution_count": 49,
   "metadata": {},
   "outputs": [],
   "source": [
    "url = \"https://cf-courses-data.s3.us.cloud-object-storage.appdomain.cloud/IBM-DA0321EN-SkillsNetwork/labs/datasets/HTMLColorCodes.html\""
   ]
  },
  {
   "cell_type": "markdown",
   "metadata": {},
   "source": [
    "Before proceeding to scrape a web site, you need to examine the contents, and the way data is organized on the website. Open the above url in your browser and check how many rows and columns are there in the color table.\n"
   ]
  },
  {
   "cell_type": "code",
   "execution_count": 50,
   "metadata": {},
   "outputs": [],
   "source": [
    "# get the contents of the webpage in text format and store in a variable called data\n",
    "data  = requests.get(url).text"
   ]
  },
  {
   "cell_type": "code",
   "execution_count": 51,
   "metadata": {},
   "outputs": [],
   "source": [
    "#soup = BeautifulSoup(data,\"html5lib\")\n",
    "soup = BeautifulSoup(data,\"html.parser\")"
   ]
  },
  {
   "cell_type": "code",
   "execution_count": 52,
   "metadata": {},
   "outputs": [],
   "source": [
    "#find a html table in the web page\n",
    "table = soup.find('table') # in html table is represented by the tag <table>"
   ]
  },
  {
   "cell_type": "code",
   "execution_count": 53,
   "metadata": {},
   "outputs": [
    {
     "name": "stdout",
     "output_type": "stream",
     "text": [
      "Color Name--->Hex Code#RRGGBB\n",
      "lightsalmon--->#FFA07A\n",
      "salmon--->#FA8072\n",
      "darksalmon--->#E9967A\n",
      "lightcoral--->#F08080\n",
      "coral--->#FF7F50\n",
      "tomato--->#FF6347\n",
      "orangered--->#FF4500\n",
      "gold--->#FFD700\n",
      "orange--->#FFA500\n",
      "darkorange--->#FF8C00\n",
      "lightyellow--->#FFFFE0\n",
      "lemonchiffon--->#FFFACD\n",
      "papayawhip--->#FFEFD5\n",
      "moccasin--->#FFE4B5\n",
      "peachpuff--->#FFDAB9\n",
      "palegoldenrod--->#EEE8AA\n",
      "khaki--->#F0E68C\n",
      "darkkhaki--->#BDB76B\n",
      "yellow--->#FFFF00\n",
      "lawngreen--->#7CFC00\n",
      "chartreuse--->#7FFF00\n",
      "limegreen--->#32CD32\n",
      "lime--->#00FF00\n",
      "forestgreen--->#228B22\n",
      "green--->#008000\n",
      "powderblue--->#B0E0E6\n",
      "lightblue--->#ADD8E6\n",
      "lightskyblue--->#87CEFA\n",
      "skyblue--->#87CEEB\n",
      "deepskyblue--->#00BFFF\n",
      "lightsteelblue--->#B0C4DE\n",
      "dodgerblue--->#1E90FF\n"
     ]
    }
   ],
   "source": [
    "#Get all rows from the table\n",
    "for row in table.find_all('tr'): # in html table row is represented by the tag <tr>\n",
    "    # Get all columns in each row.\n",
    "    cols = row.find_all('td') # in html a column is represented by the tag <td>\n",
    "    color_name = cols[2].getText() # store the value in column 3 as color_name\n",
    "    color_code = cols[3].getText() # store the value in column 4 as color_code\n",
    "    print(\"{}--->{}\".format(color_name,color_code))"
   ]
  },
  {
   "cell_type": "markdown",
   "metadata": {},
   "source": [
    "## Authors\n"
   ]
  },
  {
   "cell_type": "markdown",
   "metadata": {},
   "source": [
    "Ramesh Sannareddy\n"
   ]
  },
  {
   "cell_type": "markdown",
   "metadata": {},
   "source": [
    "### Other Contributors\n"
   ]
  },
  {
   "cell_type": "markdown",
   "metadata": {},
   "source": [
    "Rav Ahuja\n"
   ]
  },
  {
   "cell_type": "markdown",
   "metadata": {},
   "source": [
    "## Change Log\n"
   ]
  },
  {
   "cell_type": "markdown",
   "metadata": {},
   "source": [
    "| Date (YYYY-MM-DD) | Version | Changed By        | Change Description                 |\n",
    "| ----------------- | ------- | ----------------- | ---------------------------------- |\n",
    "| 2020-10-17        | 0.1     | Ramesh Sannareddy | Created initial version of the lab |\n"
   ]
  },
  {
   "cell_type": "markdown",
   "metadata": {},
   "source": [
    "Copyright © 2020 IBM Corporation. This notebook and its source code are released under the terms of the [MIT License](https://cognitiveclass.ai/mit-license/?utm_medium=Exinfluencer&utm_source=Exinfluencer&utm_content=000026UJ&utm_term=10006555&utm_id=NA-SkillsNetwork-Channel-SkillsNetworkCoursesIBMDA0321ENSkillsNetwork21426264-2022-01-01).\n"
   ]
  }
 ],
 "metadata": {
  "kernelspec": {
   "display_name": "Python",
   "language": "python",
   "name": "conda-env-python-py"
  },
  "language_info": {
   "codemirror_mode": {
    "name": "ipython",
    "version": 3
   },
   "file_extension": ".py",
   "mimetype": "text/x-python",
   "name": "python",
   "nbconvert_exporter": "python",
   "pygments_lexer": "ipython3",
   "version": "3.7.12"
  }
 },
 "nbformat": 4,
 "nbformat_minor": 4
}
