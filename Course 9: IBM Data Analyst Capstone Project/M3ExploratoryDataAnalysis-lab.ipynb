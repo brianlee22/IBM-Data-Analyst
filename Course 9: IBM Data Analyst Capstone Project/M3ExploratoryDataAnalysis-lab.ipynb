{
 "cells": [
  {
   "cell_type": "markdown",
   "metadata": {},
   "source": [
    "<p style=\"text-align:center\">\n",
    "    <a href=\"https://skills.network/?utm_medium=Exinfluencer&utm_source=Exinfluencer&utm_content=000026UJ&utm_term=10006555&utm_id=NA-SkillsNetwork-Channel-SkillsNetworkCoursesIBMDA0321ENSkillsNetwork21426264-2022-01-01\" target=\"_blank\">\n",
    "    <img src=\"https://cf-courses-data.s3.us.cloud-object-storage.appdomain.cloud/assets/logos/SN_web_lightmode.png\" width=\"200\" alt=\"Skills Network Logo\"  />\n",
    "    </a>\n",
    "</p>\n"
   ]
  },
  {
   "cell_type": "markdown",
   "metadata": {},
   "source": [
    "# **Exploratory Data Analysis Lab**\n"
   ]
  },
  {
   "cell_type": "markdown",
   "metadata": {},
   "source": [
    "Estimated time needed: **30** minutes\n"
   ]
  },
  {
   "cell_type": "markdown",
   "metadata": {},
   "source": [
    "In this module you get to work with the cleaned dataset from the previous module.\n",
    "\n",
    "In this assignment you will perform the task of exploratory data analysis.\n",
    "You will find out the distribution of data, presence of outliers and also determine the correlation between different columns in the dataset.\n"
   ]
  },
  {
   "cell_type": "markdown",
   "metadata": {},
   "source": [
    "## Objectives\n"
   ]
  },
  {
   "cell_type": "markdown",
   "metadata": {},
   "source": [
    "In this lab you will perform the following:\n"
   ]
  },
  {
   "cell_type": "markdown",
   "metadata": {},
   "source": [
    "*   Identify the distribution of data in the dataset.\n",
    "\n",
    "*   Identify outliers in the dataset.\n",
    "\n",
    "*   Remove outliers from the dataset.\n",
    "\n",
    "*   Identify correlation between features in the dataset.\n"
   ]
  },
  {
   "cell_type": "markdown",
   "metadata": {},
   "source": [
    "***\n"
   ]
  },
  {
   "cell_type": "markdown",
   "metadata": {},
   "source": [
    "## Hands on Lab\n"
   ]
  },
  {
   "cell_type": "markdown",
   "metadata": {},
   "source": [
    "Import the pandas module.\n"
   ]
  },
  {
   "cell_type": "code",
   "execution_count": 1,
   "metadata": {},
   "outputs": [],
   "source": [
    "import pandas as pd"
   ]
  },
  {
   "cell_type": "markdown",
   "metadata": {},
   "source": [
    "Load the dataset into a dataframe.\n"
   ]
  },
  {
   "cell_type": "code",
   "execution_count": 2,
   "metadata": {},
   "outputs": [],
   "source": [
    "df = pd.read_csv(\"https://cf-courses-data.s3.us.cloud-object-storage.appdomain.cloud/IBM-DA0321EN-SkillsNetwork/LargeData/m2_survey_data.csv\")"
   ]
  },
  {
   "cell_type": "code",
   "execution_count": 3,
   "metadata": {},
   "outputs": [
    {
     "data": {
      "text/html": [
       "<div>\n",
       "<style scoped>\n",
       "    .dataframe tbody tr th:only-of-type {\n",
       "        vertical-align: middle;\n",
       "    }\n",
       "\n",
       "    .dataframe tbody tr th {\n",
       "        vertical-align: top;\n",
       "    }\n",
       "\n",
       "    .dataframe thead th {\n",
       "        text-align: right;\n",
       "    }\n",
       "</style>\n",
       "<table border=\"1\" class=\"dataframe\">\n",
       "  <thead>\n",
       "    <tr style=\"text-align: right;\">\n",
       "      <th></th>\n",
       "      <th>Respondent</th>\n",
       "      <th>MainBranch</th>\n",
       "      <th>Hobbyist</th>\n",
       "      <th>OpenSourcer</th>\n",
       "      <th>OpenSource</th>\n",
       "      <th>Employment</th>\n",
       "      <th>Country</th>\n",
       "      <th>Student</th>\n",
       "      <th>EdLevel</th>\n",
       "      <th>UndergradMajor</th>\n",
       "      <th>...</th>\n",
       "      <th>WelcomeChange</th>\n",
       "      <th>SONewContent</th>\n",
       "      <th>Age</th>\n",
       "      <th>Gender</th>\n",
       "      <th>Trans</th>\n",
       "      <th>Sexuality</th>\n",
       "      <th>Ethnicity</th>\n",
       "      <th>Dependents</th>\n",
       "      <th>SurveyLength</th>\n",
       "      <th>SurveyEase</th>\n",
       "    </tr>\n",
       "  </thead>\n",
       "  <tbody>\n",
       "    <tr>\n",
       "      <th>0</th>\n",
       "      <td>4</td>\n",
       "      <td>I am a developer by profession</td>\n",
       "      <td>No</td>\n",
       "      <td>Never</td>\n",
       "      <td>The quality of OSS and closed source software ...</td>\n",
       "      <td>Employed full-time</td>\n",
       "      <td>United States</td>\n",
       "      <td>No</td>\n",
       "      <td>Bachelor’s degree (BA, BS, B.Eng., etc.)</td>\n",
       "      <td>Computer science, computer engineering, or sof...</td>\n",
       "      <td>...</td>\n",
       "      <td>Just as welcome now as I felt last year</td>\n",
       "      <td>Tech articles written by other developers;Indu...</td>\n",
       "      <td>22.0</td>\n",
       "      <td>Man</td>\n",
       "      <td>No</td>\n",
       "      <td>Straight / Heterosexual</td>\n",
       "      <td>White or of European descent</td>\n",
       "      <td>No</td>\n",
       "      <td>Appropriate in length</td>\n",
       "      <td>Easy</td>\n",
       "    </tr>\n",
       "    <tr>\n",
       "      <th>1</th>\n",
       "      <td>9</td>\n",
       "      <td>I am a developer by profession</td>\n",
       "      <td>Yes</td>\n",
       "      <td>Once a month or more often</td>\n",
       "      <td>The quality of OSS and closed source software ...</td>\n",
       "      <td>Employed full-time</td>\n",
       "      <td>New Zealand</td>\n",
       "      <td>No</td>\n",
       "      <td>Some college/university study without earning ...</td>\n",
       "      <td>Computer science, computer engineering, or sof...</td>\n",
       "      <td>...</td>\n",
       "      <td>Just as welcome now as I felt last year</td>\n",
       "      <td>NaN</td>\n",
       "      <td>23.0</td>\n",
       "      <td>Man</td>\n",
       "      <td>No</td>\n",
       "      <td>Bisexual</td>\n",
       "      <td>White or of European descent</td>\n",
       "      <td>No</td>\n",
       "      <td>Appropriate in length</td>\n",
       "      <td>Neither easy nor difficult</td>\n",
       "    </tr>\n",
       "    <tr>\n",
       "      <th>2</th>\n",
       "      <td>13</td>\n",
       "      <td>I am a developer by profession</td>\n",
       "      <td>Yes</td>\n",
       "      <td>Less than once a month but more than once per ...</td>\n",
       "      <td>OSS is, on average, of HIGHER quality than pro...</td>\n",
       "      <td>Employed full-time</td>\n",
       "      <td>United States</td>\n",
       "      <td>No</td>\n",
       "      <td>Master’s degree (MA, MS, M.Eng., MBA, etc.)</td>\n",
       "      <td>Computer science, computer engineering, or sof...</td>\n",
       "      <td>...</td>\n",
       "      <td>Somewhat more welcome now than last year</td>\n",
       "      <td>Tech articles written by other developers;Cour...</td>\n",
       "      <td>28.0</td>\n",
       "      <td>Man</td>\n",
       "      <td>No</td>\n",
       "      <td>Straight / Heterosexual</td>\n",
       "      <td>White or of European descent</td>\n",
       "      <td>Yes</td>\n",
       "      <td>Appropriate in length</td>\n",
       "      <td>Easy</td>\n",
       "    </tr>\n",
       "    <tr>\n",
       "      <th>3</th>\n",
       "      <td>16</td>\n",
       "      <td>I am a developer by profession</td>\n",
       "      <td>Yes</td>\n",
       "      <td>Never</td>\n",
       "      <td>The quality of OSS and closed source software ...</td>\n",
       "      <td>Employed full-time</td>\n",
       "      <td>United Kingdom</td>\n",
       "      <td>No</td>\n",
       "      <td>Master’s degree (MA, MS, M.Eng., MBA, etc.)</td>\n",
       "      <td>NaN</td>\n",
       "      <td>...</td>\n",
       "      <td>Just as welcome now as I felt last year</td>\n",
       "      <td>Tech articles written by other developers;Indu...</td>\n",
       "      <td>26.0</td>\n",
       "      <td>Man</td>\n",
       "      <td>No</td>\n",
       "      <td>Straight / Heterosexual</td>\n",
       "      <td>White or of European descent</td>\n",
       "      <td>No</td>\n",
       "      <td>Appropriate in length</td>\n",
       "      <td>Neither easy nor difficult</td>\n",
       "    </tr>\n",
       "    <tr>\n",
       "      <th>4</th>\n",
       "      <td>17</td>\n",
       "      <td>I am a developer by profession</td>\n",
       "      <td>Yes</td>\n",
       "      <td>Less than once a month but more than once per ...</td>\n",
       "      <td>The quality of OSS and closed source software ...</td>\n",
       "      <td>Employed full-time</td>\n",
       "      <td>Australia</td>\n",
       "      <td>No</td>\n",
       "      <td>Bachelor’s degree (BA, BS, B.Eng., etc.)</td>\n",
       "      <td>Computer science, computer engineering, or sof...</td>\n",
       "      <td>...</td>\n",
       "      <td>Just as welcome now as I felt last year</td>\n",
       "      <td>Tech articles written by other developers;Indu...</td>\n",
       "      <td>29.0</td>\n",
       "      <td>Man</td>\n",
       "      <td>No</td>\n",
       "      <td>Straight / Heterosexual</td>\n",
       "      <td>Hispanic or Latino/Latina;Multiracial</td>\n",
       "      <td>No</td>\n",
       "      <td>Appropriate in length</td>\n",
       "      <td>Easy</td>\n",
       "    </tr>\n",
       "  </tbody>\n",
       "</table>\n",
       "<p>5 rows × 85 columns</p>\n",
       "</div>"
      ],
      "text/plain": [
       "   Respondent                      MainBranch Hobbyist  \\\n",
       "0           4  I am a developer by profession       No   \n",
       "1           9  I am a developer by profession      Yes   \n",
       "2          13  I am a developer by profession      Yes   \n",
       "3          16  I am a developer by profession      Yes   \n",
       "4          17  I am a developer by profession      Yes   \n",
       "\n",
       "                                         OpenSourcer  \\\n",
       "0                                              Never   \n",
       "1                         Once a month or more often   \n",
       "2  Less than once a month but more than once per ...   \n",
       "3                                              Never   \n",
       "4  Less than once a month but more than once per ...   \n",
       "\n",
       "                                          OpenSource          Employment  \\\n",
       "0  The quality of OSS and closed source software ...  Employed full-time   \n",
       "1  The quality of OSS and closed source software ...  Employed full-time   \n",
       "2  OSS is, on average, of HIGHER quality than pro...  Employed full-time   \n",
       "3  The quality of OSS and closed source software ...  Employed full-time   \n",
       "4  The quality of OSS and closed source software ...  Employed full-time   \n",
       "\n",
       "          Country Student                                            EdLevel  \\\n",
       "0   United States      No           Bachelor’s degree (BA, BS, B.Eng., etc.)   \n",
       "1     New Zealand      No  Some college/university study without earning ...   \n",
       "2   United States      No        Master’s degree (MA, MS, M.Eng., MBA, etc.)   \n",
       "3  United Kingdom      No        Master’s degree (MA, MS, M.Eng., MBA, etc.)   \n",
       "4       Australia      No           Bachelor’s degree (BA, BS, B.Eng., etc.)   \n",
       "\n",
       "                                      UndergradMajor  ...  \\\n",
       "0  Computer science, computer engineering, or sof...  ...   \n",
       "1  Computer science, computer engineering, or sof...  ...   \n",
       "2  Computer science, computer engineering, or sof...  ...   \n",
       "3                                                NaN  ...   \n",
       "4  Computer science, computer engineering, or sof...  ...   \n",
       "\n",
       "                              WelcomeChange  \\\n",
       "0   Just as welcome now as I felt last year   \n",
       "1   Just as welcome now as I felt last year   \n",
       "2  Somewhat more welcome now than last year   \n",
       "3   Just as welcome now as I felt last year   \n",
       "4   Just as welcome now as I felt last year   \n",
       "\n",
       "                                        SONewContent   Age Gender Trans  \\\n",
       "0  Tech articles written by other developers;Indu...  22.0    Man    No   \n",
       "1                                                NaN  23.0    Man    No   \n",
       "2  Tech articles written by other developers;Cour...  28.0    Man    No   \n",
       "3  Tech articles written by other developers;Indu...  26.0    Man    No   \n",
       "4  Tech articles written by other developers;Indu...  29.0    Man    No   \n",
       "\n",
       "                 Sexuality                              Ethnicity Dependents  \\\n",
       "0  Straight / Heterosexual           White or of European descent         No   \n",
       "1                 Bisexual           White or of European descent         No   \n",
       "2  Straight / Heterosexual           White or of European descent        Yes   \n",
       "3  Straight / Heterosexual           White or of European descent         No   \n",
       "4  Straight / Heterosexual  Hispanic or Latino/Latina;Multiracial         No   \n",
       "\n",
       "            SurveyLength                  SurveyEase  \n",
       "0  Appropriate in length                        Easy  \n",
       "1  Appropriate in length  Neither easy nor difficult  \n",
       "2  Appropriate in length                        Easy  \n",
       "3  Appropriate in length  Neither easy nor difficult  \n",
       "4  Appropriate in length                        Easy  \n",
       "\n",
       "[5 rows x 85 columns]"
      ]
     },
     "execution_count": 3,
     "metadata": {},
     "output_type": "execute_result"
    }
   ],
   "source": [
    "df.head()"
   ]
  },
  {
   "cell_type": "markdown",
   "metadata": {},
   "source": [
    "## Distribution\n"
   ]
  },
  {
   "cell_type": "markdown",
   "metadata": {},
   "source": [
    "### Determine how the data is distributed\n"
   ]
  },
  {
   "cell_type": "markdown",
   "metadata": {},
   "source": [
    "The column `ConvertedComp` contains Salary converted to annual USD salaries using the exchange rate on 2019-02-01.\n",
    "\n",
    "This assumes 12 working months and 50 working weeks.\n"
   ]
  },
  {
   "cell_type": "markdown",
   "metadata": {},
   "source": [
    "Plot the distribution curve for the column `ConvertedComp`.\n"
   ]
  },
  {
   "cell_type": "code",
   "execution_count": 68,
   "metadata": {},
   "outputs": [
    {
     "name": "stderr",
     "output_type": "stream",
     "text": [
      "C:\\Users\\Brian\\anaconda3\\lib\\site-packages\\seaborn\\distributions.py:2557: FutureWarning: `distplot` is a deprecated function and will be removed in a future version. Please adapt your code to use either `displot` (a figure-level function with similar flexibility) or `kdeplot` (an axes-level function for kernel density plots).\n",
      "  warnings.warn(msg, FutureWarning)\n"
     ]
    },
    {
     "data": {
      "image/png": "[encoded data removed]",
      "text/plain": [
       "<Figure size 720x360 with 1 Axes>"
      ]
     },
     "metadata": {
      "needs_background": "light"
     },
     "output_type": "display_data"
    }
   ],
   "source": [
    "# your code goes here\n",
    "import numpy as np\n",
    "import seaborn as sns\n",
    "import matplotlib.pyplot as plt\n",
    "%matplotlib inline\n",
    "\n",
    "plt.figure(figsize=(10,5))\n",
    "ax = sns.distplot(df['ConvertedComp'], hist=False, color='r', label='Converted Comp')\n",
    "#ax = sns.distplot(df['ConvertedComp'], color='r', label='Converted Comp')\n",
    "#plt.show()"
   ]
  },
  {
   "cell_type": "markdown",
   "metadata": {},
   "source": [
    "Plot the histogram for the column `ConvertedComp`.\n"
   ]
  },
  {
   "cell_type": "code",
   "execution_count": 67,
   "metadata": {},
   "outputs": [
    {
     "name": "stdout",
     "output_type": "stream",
     "text": [
      "[      0.  200000.  400000.  600000.  800000. 1000000. 1200000. 1400000.\n",
      " 1600000. 1800000. 2000000.]\n"
     ]
    },
    {
     "data": {
      "image/png": "[encoded data removed]",
      "text/plain": [
       "<Figure size 720x360 with 1 Axes>"
      ]
     },
     "metadata": {
      "needs_background": "light"
     },
     "output_type": "display_data"
    }
   ],
   "source": [
    "# your code goes here\n",
    "plt.figure(figsize=(10,5))\n",
    "#df['ConvertedComp'].hist()\n",
    "\n",
    "#all 3 produce same plot\n",
    "#plt.hist(df['ConvertedComp'], bins=10)\n",
    "#df['ConvertedComp'].plot(kind='hist')\n",
    "#df.ConvertedComp.plot(kind='hist')\n",
    "\n",
    "df_temp = df[np.isfinite(df['ConvertedComp'])]\n",
    "count, bin_edges = np.histogram(df_temp['ConvertedComp'])\n",
    "print(bin_edges)\n",
    "#df.ConvertedComp.plot(kind='hist', xticks=bin_edges)\n",
    "df['ConvertedComp'].plot(kind='hist', xticks=bin_edges)\n",
    "plt.show()"
   ]
  },
  {
   "cell_type": "markdown",
   "metadata": {},
   "source": [
    "What is the median of the column `ConvertedComp`?\n"
   ]
  },
  {
   "cell_type": "code",
   "execution_count": 35,
   "metadata": {},
   "outputs": [
    {
     "data": {
      "text/plain": [
       "57745.0"
      ]
     },
     "execution_count": 35,
     "metadata": {},
     "output_type": "execute_result"
    }
   ],
   "source": [
    "# your code goes here\n",
    "df['ConvertedComp'].median()"
   ]
  },
  {
   "cell_type": "markdown",
   "metadata": {},
   "source": [
    "How many responders identified themselves only as a **Man**?\n"
   ]
  },
  {
   "cell_type": "code",
   "execution_count": 38,
   "metadata": {},
   "outputs": [
    {
     "data": {
      "text/plain": [
       "Man                                                            10480\n",
       "Woman                                                            731\n",
       "Non-binary, genderqueer, or gender non-conforming                 63\n",
       "Man;Non-binary, genderqueer, or gender non-conforming             26\n",
       "Woman;Non-binary, genderqueer, or gender non-conforming           14\n",
       "Woman;Man                                                          9\n",
       "Woman;Man;Non-binary, genderqueer, or gender non-conforming        2\n",
       "Name: Gender, dtype: int64"
      ]
     },
     "execution_count": 38,
     "metadata": {},
     "output_type": "execute_result"
    }
   ],
   "source": [
    "# your code goes here\n",
    "df['Gender'].value_counts()\n",
    "#10480 identify as men"
   ]
  },
  {
   "cell_type": "markdown",
   "metadata": {},
   "source": [
    "Find out the  median ConvertedComp of responders identified themselves only as a **Woman**?\n"
   ]
  },
  {
   "cell_type": "code",
   "execution_count": 41,
   "metadata": {},
   "outputs": [
    {
     "data": {
      "text/plain": [
       "57708.0"
      ]
     },
     "execution_count": 41,
     "metadata": {},
     "output_type": "execute_result"
    }
   ],
   "source": [
    "# your code goes here\n",
    "df_woman = df[df['Gender'] == 'Woman']\n",
    "df_woman['ConvertedComp'].median()\n",
    "#df.ConvertedComp[df['Gender'] == 'Woman'].median()"
   ]
  },
  {
   "cell_type": "markdown",
   "metadata": {},
   "source": [
    "Give the five number summary for the column `Age`?\n"
   ]
  },
  {
   "cell_type": "markdown",
   "metadata": {},
   "source": [
    "**Double click here for hint**.\n",
    "\n",
    "<!--\n",
    "min,q1,median,q3,max of a column are its five number summary.\n",
    "-->\n"
   ]
  },
  {
   "cell_type": "code",
   "execution_count": 50,
   "metadata": {},
   "outputs": [
    {
     "name": "stdout",
     "output_type": "stream",
     "text": [
      "min 16.0\n",
      "min1 16.0\n",
      "q1 25.0\n",
      "median 29.0\n",
      "median1 29.0\n",
      "q3 35.0\n",
      "max 99.0\n",
      "max1 99.0\n"
     ]
    }
   ],
   "source": [
    "# your code goes here\n",
    "min = df['Age'].min()\n",
    "min1 = df['Age'].quantile(0)\n",
    "q1 = df['Age'].quantile(.25)\n",
    "median = df['Age'].median()\n",
    "median1 = df['Age'].quantile(0.5)\n",
    "q3 = df['Age'].quantile(.75)\n",
    "max = df['Age'].max()\n",
    "max1 = df['Age'].quantile(1)\n",
    "\n",
    "#min, q1, median, q3, max = df['Age'].quantile([0, .25, .5, .75, 1])\n",
    "\n",
    "print('min', min)\n",
    "print('min1', min1)\n",
    "print('q1', q1)\n",
    "print('median', median)\n",
    "print('median1', median1)\n",
    "print('q3', q3)\n",
    "print('max', max)\n",
    "print('max1', max1)\n"
   ]
  },
  {
   "cell_type": "markdown",
   "metadata": {},
   "source": [
    "Plot a histogram of the column `Age`.\n"
   ]
  },
  {
   "cell_type": "code",
   "execution_count": 77,
   "metadata": {},
   "outputs": [
    {
     "name": "stdout",
     "output_type": "stream",
     "text": [
      "[16.  24.3 32.6 40.9 49.2 57.5 65.8 74.1 82.4 90.7 99. ]\n"
     ]
    },
    {
     "data": {
      "image/png": "[encoded data removed]",
      "text/plain": [
       "<Figure size 720x360 with 1 Axes>"
      ]
     },
     "metadata": {
      "needs_background": "light"
     },
     "output_type": "display_data"
    }
   ],
   "source": [
    "# your code goes here\n",
    "plt.figure(figsize=(10,5))\n",
    "#df['Age'].hist()\n",
    "#df['Age'].plot(kind='hist')\n",
    "\n",
    "df_temp2 = df[np.isfinite(df['Age'])]\n",
    "count, bin_edges = np.histogram(df_temp2['Age'])\n",
    "print(bin_edges)\n",
    "df['Age'].plot(kind='hist', xticks=bin_edges)\n",
    "plt.show()"
   ]
  },
  {
   "cell_type": "markdown",
   "metadata": {},
   "source": [
    "## Outliers\n"
   ]
  },
  {
   "cell_type": "markdown",
   "metadata": {},
   "source": [
    "### Finding outliers\n"
   ]
  },
  {
   "cell_type": "markdown",
   "metadata": {},
   "source": [
    "Find out if outliers exist in the column `ConvertedComp` using a box plot?\n"
   ]
  },
  {
   "cell_type": "code",
   "execution_count": 109,
   "metadata": {},
   "outputs": [
    {
     "data": {
      "image/png": "[encoded data removed]",
      "text/plain": [
       "<Figure size 720x360 with 1 Axes>"
      ]
     },
     "metadata": {
      "needs_background": "light"
     },
     "output_type": "display_data"
    }
   ],
   "source": [
    "# your code goes here\n",
    "plt.figure(figsize=(10,5))\n",
    "#df['ConvertedComp'].plot(kind='box')\n",
    "#sns.boxplot(x='ConvertedComp', data=df)\n",
    "sns.boxplot(x=df['ConvertedComp'])\n",
    "plt.show()"
   ]
  },
  {
   "cell_type": "markdown",
   "metadata": {},
   "source": [
    "Find out the Inter Quartile Range for the column `ConvertedComp`.\n"
   ]
  },
  {
   "cell_type": "code",
   "execution_count": 81,
   "metadata": {},
   "outputs": [
    {
     "name": "stdout",
     "output_type": "stream",
     "text": [
      "73132.0\n"
     ]
    }
   ],
   "source": [
    "# your code goes here\n",
    "q1 = df['ConvertedComp'].quantile(.25)\n",
    "q3 = df['ConvertedComp'].quantile(.75)\n",
    "IQR = q3 - q1\n",
    "print(IQR)"
   ]
  },
  {
   "cell_type": "markdown",
   "metadata": {},
   "source": [
    "Find out the upper and lower bounds.\n"
   ]
  },
  {
   "cell_type": "code",
   "execution_count": 85,
   "metadata": {},
   "outputs": [
    {
     "name": "stdout",
     "output_type": "stream",
     "text": [
      "upper: 209698.0\n",
      "lower: -82830.0\n"
     ]
    }
   ],
   "source": [
    "# your code goes here\n",
    "up_bound = q3 + 1.5 * IQR\n",
    "low_bound = q1 - 1.5 * IQR\n",
    "print('upper:', up_bound)\n",
    "print('lower:', low_bound)"
   ]
  },
  {
   "cell_type": "markdown",
   "metadata": {},
   "source": [
    "Identify how many outliers are there in the `ConvertedComp` column.\n"
   ]
  },
  {
   "cell_type": "code",
   "execution_count": 88,
   "metadata": {},
   "outputs": [
    {
     "name": "stdout",
     "output_type": "stream",
     "text": [
      "879 879\n"
     ]
    }
   ],
   "source": [
    "# your code goes here\n",
    "outliers = []\n",
    "counter = 0\n",
    "for val in df['ConvertedComp']:\n",
    "    if val > up_bound or val < low_bound:\n",
    "        outliers.append(val)\n",
    "        counter += 1\n",
    "        \n",
    "num_outliers = len(outliers)\n",
    "print(num_outliers, counter)"
   ]
  },
  {
   "cell_type": "markdown",
   "metadata": {},
   "source": [
    "Create a new dataframe by removing the outliers from the `ConvertedComp` column.\n"
   ]
  },
  {
   "cell_type": "code",
   "execution_count": 97,
   "metadata": {},
   "outputs": [
    {
     "name": "stdout",
     "output_type": "stream",
     "text": [
      "10519 9703 (11398, 85)\n",
      "False    10582\n",
      "True       816\n",
      "Name: ConvertedComp, dtype: int64\n"
     ]
    }
   ],
   "source": [
    "# your code goes here\n",
    "df_no_outliers = df[~df['ConvertedComp'].isin(outliers)]\n",
    "df_no_outliers2 = df[(df['ConvertedComp'] > low_bound) & (df['ConvertedComp'] < up_bound)]\n",
    "print(len(df_no_outliers), len(df_no_outliers2), df.shape)\n",
    "print(np.isnan(df['ConvertedComp']).value_counts())"
   ]
  },
  {
   "cell_type": "markdown",
   "metadata": {},
   "source": [
    "## Correlation\n"
   ]
  },
  {
   "cell_type": "markdown",
   "metadata": {},
   "source": [
    "### Finding correlation\n"
   ]
  },
  {
   "cell_type": "markdown",
   "metadata": {},
   "source": [
    "Find the correlation between `Age` and all other numerical columns.\n"
   ]
  },
  {
   "cell_type": "code",
   "execution_count": 102,
   "metadata": {},
   "outputs": [
    {
     "data": {
      "text/html": [
       "<div>\n",
       "<style scoped>\n",
       "    .dataframe tbody tr th:only-of-type {\n",
       "        vertical-align: middle;\n",
       "    }\n",
       "\n",
       "    .dataframe tbody tr th {\n",
       "        vertical-align: top;\n",
       "    }\n",
       "\n",
       "    .dataframe thead th {\n",
       "        text-align: right;\n",
       "    }\n",
       "</style>\n",
       "<table border=\"1\" class=\"dataframe\">\n",
       "  <thead>\n",
       "    <tr style=\"text-align: right;\">\n",
       "      <th></th>\n",
       "      <th>Respondent</th>\n",
       "      <th>CompTotal</th>\n",
       "      <th>ConvertedComp</th>\n",
       "      <th>WorkWeekHrs</th>\n",
       "      <th>CodeRevHrs</th>\n",
       "      <th>Age</th>\n",
       "    </tr>\n",
       "  </thead>\n",
       "  <tbody>\n",
       "    <tr>\n",
       "      <th>Respondent</th>\n",
       "      <td>1.000000</td>\n",
       "      <td>-0.013490</td>\n",
       "      <td>0.002181</td>\n",
       "      <td>-0.015314</td>\n",
       "      <td>0.004621</td>\n",
       "      <td>0.004041</td>\n",
       "    </tr>\n",
       "    <tr>\n",
       "      <th>CompTotal</th>\n",
       "      <td>-0.013490</td>\n",
       "      <td>1.000000</td>\n",
       "      <td>0.001037</td>\n",
       "      <td>0.003510</td>\n",
       "      <td>0.007063</td>\n",
       "      <td>0.006970</td>\n",
       "    </tr>\n",
       "    <tr>\n",
       "      <th>ConvertedComp</th>\n",
       "      <td>0.002181</td>\n",
       "      <td>0.001037</td>\n",
       "      <td>1.000000</td>\n",
       "      <td>0.021143</td>\n",
       "      <td>-0.033865</td>\n",
       "      <td>0.105386</td>\n",
       "    </tr>\n",
       "    <tr>\n",
       "      <th>WorkWeekHrs</th>\n",
       "      <td>-0.015314</td>\n",
       "      <td>0.003510</td>\n",
       "      <td>0.021143</td>\n",
       "      <td>1.000000</td>\n",
       "      <td>0.026517</td>\n",
       "      <td>0.036518</td>\n",
       "    </tr>\n",
       "    <tr>\n",
       "      <th>CodeRevHrs</th>\n",
       "      <td>0.004621</td>\n",
       "      <td>0.007063</td>\n",
       "      <td>-0.033865</td>\n",
       "      <td>0.026517</td>\n",
       "      <td>1.000000</td>\n",
       "      <td>-0.020469</td>\n",
       "    </tr>\n",
       "    <tr>\n",
       "      <th>Age</th>\n",
       "      <td>0.004041</td>\n",
       "      <td>0.006970</td>\n",
       "      <td>0.105386</td>\n",
       "      <td>0.036518</td>\n",
       "      <td>-0.020469</td>\n",
       "      <td>1.000000</td>\n",
       "    </tr>\n",
       "  </tbody>\n",
       "</table>\n",
       "</div>"
      ],
      "text/plain": [
       "               Respondent  CompTotal  ConvertedComp  WorkWeekHrs  CodeRevHrs  \\\n",
       "Respondent       1.000000  -0.013490       0.002181    -0.015314    0.004621   \n",
       "CompTotal       -0.013490   1.000000       0.001037     0.003510    0.007063   \n",
       "ConvertedComp    0.002181   0.001037       1.000000     0.021143   -0.033865   \n",
       "WorkWeekHrs     -0.015314   0.003510       0.021143     1.000000    0.026517   \n",
       "CodeRevHrs       0.004621   0.007063      -0.033865     0.026517    1.000000   \n",
       "Age              0.004041   0.006970       0.105386     0.036518   -0.020469   \n",
       "\n",
       "                    Age  \n",
       "Respondent     0.004041  \n",
       "CompTotal      0.006970  \n",
       "ConvertedComp  0.105386  \n",
       "WorkWeekHrs    0.036518  \n",
       "CodeRevHrs    -0.020469  \n",
       "Age            1.000000  "
      ]
     },
     "execution_count": 102,
     "metadata": {},
     "output_type": "execute_result"
    }
   ],
   "source": [
    "# your code goes here\n",
    "#df[['Age', 'ConvertedComp']].corr()\n",
    "df.corr()"
   ]
  },
  {
   "cell_type": "code",
   "execution_count": 103,
   "metadata": {},
   "outputs": [
    {
     "data": {
      "text/html": [
       "<div>\n",
       "<style scoped>\n",
       "    .dataframe tbody tr th:only-of-type {\n",
       "        vertical-align: middle;\n",
       "    }\n",
       "\n",
       "    .dataframe tbody tr th {\n",
       "        vertical-align: top;\n",
       "    }\n",
       "\n",
       "    .dataframe thead th {\n",
       "        text-align: right;\n",
       "    }\n",
       "</style>\n",
       "<table border=\"1\" class=\"dataframe\">\n",
       "  <thead>\n",
       "    <tr style=\"text-align: right;\">\n",
       "      <th></th>\n",
       "      <th>Respondent</th>\n",
       "      <th>CompTotal</th>\n",
       "      <th>ConvertedComp</th>\n",
       "      <th>WorkWeekHrs</th>\n",
       "      <th>CodeRevHrs</th>\n",
       "      <th>Age</th>\n",
       "    </tr>\n",
       "  </thead>\n",
       "  <tbody>\n",
       "    <tr>\n",
       "      <th>Respondent</th>\n",
       "      <td>1.000000</td>\n",
       "      <td>-0.019354</td>\n",
       "      <td>0.010878</td>\n",
       "      <td>-0.016221</td>\n",
       "      <td>0.005293</td>\n",
       "      <td>0.002180</td>\n",
       "    </tr>\n",
       "    <tr>\n",
       "      <th>CompTotal</th>\n",
       "      <td>-0.019354</td>\n",
       "      <td>1.000000</td>\n",
       "      <td>-0.063561</td>\n",
       "      <td>0.004910</td>\n",
       "      <td>0.017007</td>\n",
       "      <td>0.006337</td>\n",
       "    </tr>\n",
       "    <tr>\n",
       "      <th>ConvertedComp</th>\n",
       "      <td>0.010878</td>\n",
       "      <td>-0.063561</td>\n",
       "      <td>1.000000</td>\n",
       "      <td>0.034351</td>\n",
       "      <td>-0.088934</td>\n",
       "      <td>0.401821</td>\n",
       "    </tr>\n",
       "    <tr>\n",
       "      <th>WorkWeekHrs</th>\n",
       "      <td>-0.016221</td>\n",
       "      <td>0.004910</td>\n",
       "      <td>0.034351</td>\n",
       "      <td>1.000000</td>\n",
       "      <td>0.038935</td>\n",
       "      <td>0.032032</td>\n",
       "    </tr>\n",
       "    <tr>\n",
       "      <th>CodeRevHrs</th>\n",
       "      <td>0.005293</td>\n",
       "      <td>0.017007</td>\n",
       "      <td>-0.088934</td>\n",
       "      <td>0.038935</td>\n",
       "      <td>1.000000</td>\n",
       "      <td>-0.012878</td>\n",
       "    </tr>\n",
       "    <tr>\n",
       "      <th>Age</th>\n",
       "      <td>0.002180</td>\n",
       "      <td>0.006337</td>\n",
       "      <td>0.401821</td>\n",
       "      <td>0.032032</td>\n",
       "      <td>-0.012878</td>\n",
       "      <td>1.000000</td>\n",
       "    </tr>\n",
       "  </tbody>\n",
       "</table>\n",
       "</div>"
      ],
      "text/plain": [
       "               Respondent  CompTotal  ConvertedComp  WorkWeekHrs  CodeRevHrs  \\\n",
       "Respondent       1.000000  -0.019354       0.010878    -0.016221    0.005293   \n",
       "CompTotal       -0.019354   1.000000      -0.063561     0.004910    0.017007   \n",
       "ConvertedComp    0.010878  -0.063561       1.000000     0.034351   -0.088934   \n",
       "WorkWeekHrs     -0.016221   0.004910       0.034351     1.000000    0.038935   \n",
       "CodeRevHrs       0.005293   0.017007      -0.088934     0.038935    1.000000   \n",
       "Age              0.002180   0.006337       0.401821     0.032032   -0.012878   \n",
       "\n",
       "                    Age  \n",
       "Respondent     0.002180  \n",
       "CompTotal      0.006337  \n",
       "ConvertedComp  0.401821  \n",
       "WorkWeekHrs    0.032032  \n",
       "CodeRevHrs    -0.012878  \n",
       "Age            1.000000  "
      ]
     },
     "execution_count": 103,
     "metadata": {},
     "output_type": "execute_result"
    }
   ],
   "source": [
    "#after removing outliers and nan values from Age\n",
    "df_no_outliers2.corr()"
   ]
  },
  {
   "cell_type": "code",
   "execution_count": 107,
   "metadata": {},
   "outputs": [
    {
     "data": {
      "text/html": [
       "<div>\n",
       "<style scoped>\n",
       "    .dataframe tbody tr th:only-of-type {\n",
       "        vertical-align: middle;\n",
       "    }\n",
       "\n",
       "    .dataframe tbody tr th {\n",
       "        vertical-align: top;\n",
       "    }\n",
       "\n",
       "    .dataframe thead th {\n",
       "        text-align: right;\n",
       "    }\n",
       "</style>\n",
       "<table border=\"1\" class=\"dataframe\">\n",
       "  <thead>\n",
       "    <tr style=\"text-align: right;\">\n",
       "      <th></th>\n",
       "      <th>Respondent</th>\n",
       "      <th>CompTotal</th>\n",
       "      <th>ConvertedComp</th>\n",
       "      <th>WorkWeekHrs</th>\n",
       "      <th>CodeRevHrs</th>\n",
       "      <th>Age</th>\n",
       "    </tr>\n",
       "  </thead>\n",
       "  <tbody>\n",
       "    <tr>\n",
       "      <th>count</th>\n",
       "      <td>9703.000000</td>\n",
       "      <td>9.703000e+03</td>\n",
       "      <td>9703.000000</td>\n",
       "      <td>9664.000000</td>\n",
       "      <td>7612.000000</td>\n",
       "      <td>9493.000000</td>\n",
       "    </tr>\n",
       "    <tr>\n",
       "      <th>mean</th>\n",
       "      <td>12501.007317</td>\n",
       "      <td>7.241139e+05</td>\n",
       "      <td>59883.208389</td>\n",
       "      <td>41.864782</td>\n",
       "      <td>4.737455</td>\n",
       "      <td>30.695860</td>\n",
       "    </tr>\n",
       "    <tr>\n",
       "      <th>std</th>\n",
       "      <td>7235.627217</td>\n",
       "      <td>7.186806e+06</td>\n",
       "      <td>43394.336755</td>\n",
       "      <td>24.613489</td>\n",
       "      <td>4.420472</td>\n",
       "      <td>7.346625</td>\n",
       "    </tr>\n",
       "    <tr>\n",
       "      <th>min</th>\n",
       "      <td>4.000000</td>\n",
       "      <td>0.000000e+00</td>\n",
       "      <td>0.000000</td>\n",
       "      <td>3.000000</td>\n",
       "      <td>0.000000</td>\n",
       "      <td>16.000000</td>\n",
       "    </tr>\n",
       "    <tr>\n",
       "      <th>25%</th>\n",
       "      <td>6237.000000</td>\n",
       "      <td>2.000000e+04</td>\n",
       "      <td>24060.000000</td>\n",
       "      <td>40.000000</td>\n",
       "      <td>2.000000</td>\n",
       "      <td>25.000000</td>\n",
       "    </tr>\n",
       "    <tr>\n",
       "      <th>50%</th>\n",
       "      <td>12571.000000</td>\n",
       "      <td>6.300000e+04</td>\n",
       "      <td>52704.000000</td>\n",
       "      <td>40.000000</td>\n",
       "      <td>4.000000</td>\n",
       "      <td>29.000000</td>\n",
       "    </tr>\n",
       "    <tr>\n",
       "      <th>75%</th>\n",
       "      <td>18787.500000</td>\n",
       "      <td>1.150000e+05</td>\n",
       "      <td>85574.500000</td>\n",
       "      <td>42.000000</td>\n",
       "      <td>5.000000</td>\n",
       "      <td>34.000000</td>\n",
       "    </tr>\n",
       "    <tr>\n",
       "      <th>max</th>\n",
       "      <td>25141.000000</td>\n",
       "      <td>3.900000e+08</td>\n",
       "      <td>209356.000000</td>\n",
       "      <td>1012.000000</td>\n",
       "      <td>99.000000</td>\n",
       "      <td>99.000000</td>\n",
       "    </tr>\n",
       "  </tbody>\n",
       "</table>\n",
       "</div>"
      ],
      "text/plain": [
       "         Respondent     CompTotal  ConvertedComp  WorkWeekHrs   CodeRevHrs  \\\n",
       "count   9703.000000  9.703000e+03    9703.000000  9664.000000  7612.000000   \n",
       "mean   12501.007317  7.241139e+05   59883.208389    41.864782     4.737455   \n",
       "std     7235.627217  7.186806e+06   43394.336755    24.613489     4.420472   \n",
       "min        4.000000  0.000000e+00       0.000000     3.000000     0.000000   \n",
       "25%     6237.000000  2.000000e+04   24060.000000    40.000000     2.000000   \n",
       "50%    12571.000000  6.300000e+04   52704.000000    40.000000     4.000000   \n",
       "75%    18787.500000  1.150000e+05   85574.500000    42.000000     5.000000   \n",
       "max    25141.000000  3.900000e+08  209356.000000  1012.000000    99.000000   \n",
       "\n",
       "               Age  \n",
       "count  9493.000000  \n",
       "mean     30.695860  \n",
       "std       7.346625  \n",
       "min      16.000000  \n",
       "25%      25.000000  \n",
       "50%      29.000000  \n",
       "75%      34.000000  \n",
       "max      99.000000  "
      ]
     },
     "execution_count": 107,
     "metadata": {},
     "output_type": "execute_result"
    }
   ],
   "source": [
    "#df.describe()\n",
    "df_no_outliers2.describe()\n",
    "#df_no_outliers.describe()"
   ]
  },
  {
   "cell_type": "code",
   "execution_count": 110,
   "metadata": {},
   "outputs": [
    {
     "data": {
      "image/png": "[encoded data removed]",
      "text/plain": [
       "<Figure size 720x360 with 1 Axes>"
      ]
     },
     "metadata": {
      "needs_background": "light"
     },
     "output_type": "display_data"
    }
   ],
   "source": [
    "#Age boxplot\n",
    "plt.figure(figsize=(10,5))\n",
    "#df['Age'].plot(kind='box')\n",
    "#sns.boxplot(x='Age', data=df)\n",
    "sns.boxplot(x=df['Age'])\n",
    "plt.show()"
   ]
  },
  {
   "cell_type": "markdown",
   "metadata": {},
   "source": [
    "## Authors\n"
   ]
  },
  {
   "cell_type": "markdown",
   "metadata": {},
   "source": [
    "Ramesh Sannareddy\n"
   ]
  },
  {
   "cell_type": "markdown",
   "metadata": {},
   "source": [
    "### Other Contributors\n"
   ]
  },
  {
   "cell_type": "markdown",
   "metadata": {},
   "source": [
    "Rav Ahuja\n"
   ]
  },
  {
   "cell_type": "markdown",
   "metadata": {},
   "source": [
    "## Change Log\n"
   ]
  },
  {
   "cell_type": "markdown",
   "metadata": {},
   "source": [
    "| Date (YYYY-MM-DD) | Version | Changed By        | Change Description                 |\n",
    "| ----------------- | ------- | ----------------- | ---------------------------------- |\n",
    "| 2020-10-17        | 0.1     | Ramesh Sannareddy | Created initial version of the lab |\n"
   ]
  },
  {
   "cell_type": "markdown",
   "metadata": {},
   "source": [
    "Copyright © 2020 IBM Corporation. This notebook and its source code are released under the terms of the [MIT License](https://cognitiveclass.ai/mit-license?utm_medium=Exinfluencer&utm_source=Exinfluencer&utm_content=000026UJ&utm_term=10006555&utm_id=NA-SkillsNetwork-Channel-SkillsNetworkCoursesIBMDA0321ENSkillsNetwork21426264-2022-01-01&cm_mmc=Email_Newsletter-\\_-Developer_Ed%2BTech-\\_-WW_WW-\\_-SkillsNetwork-Courses-IBM-DA0321EN-SkillsNetwork-21426264&cm_mmca1=000026UJ&cm_mmca2=10006555&cm_mmca3=M12345678&cvosrc=email.Newsletter.M12345678&cvo_campaign=000026UJ).\n"
   ]
  }
 ],
 "metadata": {
  "kernelspec": {
   "display_name": "Python 3",
   "language": "python",
   "name": "python3"
  },
  "language_info": {
   "codemirror_mode": {
    "name": "ipython",
    "version": 3
   },
   "file_extension": ".py",
   "mimetype": "text/x-python",
   "name": "python",
   "nbconvert_exporter": "python",
   "pygments_lexer": "ipython3",
   "version": "3.8.8"
  }
 },
 "nbformat": 4,
 "nbformat_minor": 4
}
